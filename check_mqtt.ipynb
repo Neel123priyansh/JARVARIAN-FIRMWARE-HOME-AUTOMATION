{
 "cells": [
  {
   "cell_type": "code",
   "execution_count": 1,
   "metadata": {},
   "outputs": [],
   "source": [
    "import paho.mqtt.client as mqtt\n",
    "import json\n",
    "import time\n",
    "import multiprocessing\n"
   ]
  },
  {
   "cell_type": "code",
   "execution_count": 2,
   "metadata": {},
   "outputs": [],
   "source": [
    "DEVICE_NAME = \"BLUE_LED\"\n"
   ]
  },
  {
   "cell_type": "code",
   "execution_count": 3,
   "metadata": {},
   "outputs": [
    {
     "data": {
      "text/plain": [
       "0"
      ]
     },
     "execution_count": 3,
     "metadata": {},
     "output_type": "execute_result"
    }
   ],
   "source": [
    "# Read the config file and get the values\n",
    "with open('data/config.json', 'r', encoding='utf-8') as json_data_file:\n",
    "    config = json.load(json_data_file)\n",
    "\n",
    "mqtt_host = config['mqtt']['host']\n",
    "username = config['mqtt']['username']\n",
    "password = config['mqtt']['password']\n",
    "topic = config['mqtt']['topic']\n",
    "mqttc = mqtt.Client()\n",
    "mqttc.username_pw_set(username, password)\n",
    "mqttc.connect(mqtt_host, 1883, 60)\n"
   ]
  },
  {
   "cell_type": "markdown",
   "metadata": {},
   "source": [
    "### Change State"
   ]
  },
  {
   "cell_type": "code",
   "execution_count": 4,
   "metadata": {},
   "outputs": [
    {
     "name": "stdout",
     "output_type": "stream",
     "text": [
      "Invalid state\n"
     ]
    }
   ],
   "source": [
    "while True:\n",
    "\n",
    "    change_state_message = {\n",
    "        'origin': 'check_mqtt.ipynb',\n",
    "        'messageType': 'change_state',\n",
    "        'message': {\n",
    "            'device_id': 'BLUE_LED',\n",
    "            'state': input(\"Enter the state: \")\n",
    "        }\n",
    "    }\n",
    "    match change_state_message['message']['state']:\n",
    "        case 'ON':\n",
    "            mqttc.publish(topic, json.dumps(change_state_message))\n",
    "        case 'OFF':\n",
    "            mqttc.publish(topic, json.dumps(change_state_message))\n",
    "        case 'EXIT':\n",
    "            print(\"Invalid state\")\n",
    "            break\n"
   ]
  },
  {
   "cell_type": "markdown",
   "metadata": {},
   "source": [
    "### Check State"
   ]
  },
  {
   "cell_type": "code",
   "execution_count": null,
   "metadata": {},
   "outputs": [],
   "source": [
    "current_state_message = {\n",
    "    'origin': 'check_mqtt.ipynb',\n",
    "    'messageType': 'current_state',\n",
    "    'message': {\n",
    "        'device_id': DEVICE_NAME,\n",
    "    }\n",
    "}\n",
    "\n",
    "mqttc.publish(topic, json.dumps(current_state_message))\n"
   ]
  },
  {
   "cell_type": "code",
   "execution_count": null,
   "metadata": {},
   "outputs": [],
   "source": [
    "kepp_alive_counter = 0\n",
    "start_time = time.time()\n",
    "def keep_alive():\n",
    "    mqttc.publish(topic, json.dumps(\n",
    "        {\n",
    "            \"origin\": \"check_mqtt.ipynb\",\n",
    "            \"messageType\": \"keep_alive\", \n",
    "            \"message\": {\n",
    "                \"keep_alive_counter\": kepp_alive_counter,\n",
    "                \"uptime\": time.time() - start_time\n",
    "            }\n",
    "        }\n",
    "    ))\n",
    "    kepp_alive_counter += 1\n",
    "    time.sleep(50)\n",
    "\n",
    "kepp_alive_process = multiprocessing.Process(target=keep_alive)\n",
    "kepp_alive_process.start()\n"
   ]
  }
 ],
 "metadata": {
  "kernelspec": {
   "display_name": "Python 3",
   "language": "python",
   "name": "python3"
  },
  "language_info": {
   "codemirror_mode": {
    "name": "ipython",
    "version": 3
   },
   "file_extension": ".py",
   "mimetype": "text/x-python",
   "name": "python",
   "nbconvert_exporter": "python",
   "pygments_lexer": "ipython3",
   "version": "3.11.8"
  }
 },
 "nbformat": 4,
 "nbformat_minor": 2
}
